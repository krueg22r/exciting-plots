{
 "cells": [
  {
   "cell_type": "code",
   "execution_count": 13,
   "metadata": {},
   "outputs": [],
   "source": [
    "# produces a grid of three plots with binding curves for three different systems, \n",
    "# produced using three different methods \n",
    "\n",
    "import matplotlib.pyplot as plt\n",
    "import rplot as rp # provides some utility functions and an interface to Pandas"
   ]
  },
  {
   "cell_type": "code",
   "execution_count": 14,
   "metadata": {},
   "outputs": [],
   "source": [
    "# load file as pandas dataframe, convert to array, sort and change units\n",
    "def procFile(fileName):\n",
    "    arr = rp.loadFile(fileName)\n",
    "    arr = rp.sortAllLeft(arr,1)\n",
    "    arr = rp.hartreeToKJ(arr)\n",
    "    return arr"
   ]
  },
  {
   "cell_type": "code",
   "execution_count": 15,
   "metadata": {},
   "outputs": [],
   "source": [
    "naB2 = procFile('naB2.dat')\n",
    "naB3 = procFile('naB3.dat')\n",
    "naADC = procFile('naADC.dat')"
   ]
  },
  {
   "cell_type": "code",
   "execution_count": 16,
   "metadata": {},
   "outputs": [],
   "source": [
    "baB2 = procFile('baB2.dat')\n",
    "baB3 = procFile('baB3.dat')\n",
    "baADC = procFile('baADC.dat')"
   ]
  },
  {
   "cell_type": "code",
   "execution_count": 17,
   "metadata": {},
   "outputs": [],
   "source": [
    "bnB2 = procFile('bnB2.dat')\n",
    "bnB3 = procFile('bnB3.dat')\n",
    "bnADC = procFile('bnADC.dat')"
   ]
  },
  {
   "cell_type": "code",
   "execution_count": 18,
   "metadata": {},
   "outputs": [],
   "source": [
    "fontSize = 9\n",
    "padding = 22\n",
    "plt.rcParams.update({'font.size': fontSize})\n",
    "fo = rp.formatObj() # provides standardized colors/markers"
   ]
  },
  {
   "cell_type": "code",
   "execution_count": 19,
   "metadata": {},
   "outputs": [],
   "source": [
    "xMin = 2.6 # variables for plot bounds\n",
    "yMin = -95\n",
    "xMax = 7.25\n",
    "yMax = 15"
   ]
  },
  {
   "cell_type": "code",
   "execution_count": 20,
   "metadata": {},
   "outputs": [
    {
     "name": "stdout",
     "output_type": "stream",
     "text": [
      "eBind y = -38.5987325868\n",
      "r0 = 3.00286532951\n",
      "eBind y = -46.5797781474\n",
      "r0 = 3.16275071633\n",
      "eBind y = -92.0974221505\n",
      "r0 = 3.0452722063\n",
      "eBind y = -32.6714258353\n",
      "r0 = 3.15071633238\n",
      "eBind y = -34.3770356466\n",
      "r0 = 3.32722063037\n",
      "eBind y = -73.982798985\n",
      "r0 = 3.18624641834\n",
      "eBind y = -42.0756125793\n",
      "r0 = 3.12693409742\n",
      "eBind y = -32.6861259053\n",
      "r0 = 3.32722063037\n",
      "eBind y = -76.8960240571\n",
      "r0 = 3.23667621777\n"
     ]
    },
    {
     "data": {
      "image/png": "[encoded data removed]",
      "text/plain": [
       "<matplotlib.figure.Figure at 0x1166b1898>"
      ]
     },
     "metadata": {
      "needs_background": "light"
     },
     "output_type": "display_data"
    }
   ],
   "source": [
    "    aspect = (xMax-xMin) / (yMax - yMin)\n",
    "    plt.figure(1, figsize=(8,2))\n",
    "    ax1 = plt.subplot(131) # Plot 1 ADC(2) \n",
    "    ax1.set_aspect(aspect)\n",
    "    plt.title('ADC(2)')\n",
    "    plt.plot(bnADC[0], bnADC[1], fo.getMarker(0), markersize=2, color = fo.getColor(0), label = '(BN)$^*$')\n",
    "    rp.plotSpline(bnADC[0], bnADC[1], fo.getColor(0))\n",
    "    plt.plot(baADC[0], baADC[1], fo.getMarker(0), markersize=2, color = fo.getColor(2), label = '(BA)$^*$')\n",
    "    rp.plotSpline(baADC[0], baADC[1], fo.getColor(2))\n",
    "    plt.plot(naADC[0], naADC[1], fo.getMarker(0), markersize=2, color = fo.getColor(1), label = '(NA)$^*$')\n",
    "    rp.plotSpline(naADC[0], naADC[1], fo.getColor(1))\n",
    "    axes = plt.gca()\n",
    "    axes.set_xlim([xMin,xMax])\n",
    "    axes.set_ylim([yMin,yMax])\n",
    "    plt.ylabel('$E$\\n (kJ/mol)', fontsize=fontSize, rotation='horizontal', labelpad=padding)\n",
    "    plt.xlabel('$r_{z}$ $\\mathrm{(\\AA)}$', fontsize=fontSize)\n",
    "    \n",
    "    ax2 = plt.subplot(132) # Plot 2 B2PLYP \n",
    "    ax2.set_aspect(aspect)\n",
    "    plt.title('B2PLYP')\n",
    "    plt.plot(bnB2[0], bnB2[1], fo.getMarker(0), markersize=2, color = fo.getColor(0), label = '(BN)$^*$')\n",
    "    rp.plotSpline(bnB2[0], bnB2[1], fo.getColor(0))\n",
    "    plt.plot(baB2[0], baB2[1], fo.getMarker(0), markersize=2, color = fo.getColor(2), label = '(BA)$^*$')\n",
    "    rp.plotSpline(baB2[0], baB2[1], fo.getColor(2))\n",
    "    plt.plot(naB2[0], naB2[1], fo.getMarker(0), markersize=2, color = fo.getColor(1), label = '(NA)$^*$')\n",
    "    rp.plotSpline(naB2[0], naB2[1], fo.getColor(1))\n",
    "    #plt.legend(loc='lower right')\n",
    "    axes = plt.gca()\n",
    "    axes.set_xlim([xMin,xMax])\n",
    "    axes.set_ylim([yMin,yMax])\n",
    "    plt.xlabel('$r_{z}$ $\\mathrm{(\\AA)}$', fontsize=fontSize)\n",
    "    \n",
    "    ax3 = plt.subplot(133) # Plot 3 B3LYP\n",
    "    ax3.set_aspect(aspect)\n",
    "    plt.title('B3LYP')\n",
    "    plt.plot(bnB3[0], bnB3[1], fo.getMarker(0), markersize=2, color = fo.getColor(0), label = '(BN)$^*$')\n",
    "    rp.plotSpline(bnB3[0], bnB3[1], fo.getColor(0))\n",
    "    plt.plot(baB3[0], baB3[1], fo.getMarker(0), markersize=2, color = fo.getColor(2), label = '(BA)$^*$')\n",
    "    rp.plotSpline(baB3[0], baB3[1], fo.getColor(2))\n",
    "    plt.plot(naB3[0], naB3[1], fo.getMarker(0), markersize=2, color = fo.getColor(1), label = '(NA)$^*$')\n",
    "    rp.plotSpline(naB3[0], naB3[1], fo.getColor(1))\n",
    "    axes = plt.gca()\n",
    "    axes.set_xlim([xMin,xMax])\n",
    "    axes.set_ylim([yMin,yMax])\n",
    "    #plt.legend(loc='best')\n",
    "    plt.xlabel('$r_{z}$ $\\mathrm{(\\AA)}$', fontsize=fontSize)\n",
    "\n",
    "\n",
    "    plt.subplots_adjust(hspace=0)\n",
    "    plt.subplots_adjust(wspace=0)"
   ]
  },
  {
   "cell_type": "code",
   "execution_count": null,
   "metadata": {},
   "outputs": [],
   "source": []
  }
 ],
 "metadata": {
  "kernelspec": {
   "display_name": "Python 3",
   "language": "python",
   "name": "python3"
  },
  "language_info": {
   "codemirror_mode": {
    "name": "ipython",
    "version": 3
   },
   "file_extension": ".py",
   "mimetype": "text/x-python",
   "name": "python",
   "nbconvert_exporter": "python",
   "pygments_lexer": "ipython3",
   "version": "3.6.2"
  }
 },
 "nbformat": 4,
 "nbformat_minor": 2
}
